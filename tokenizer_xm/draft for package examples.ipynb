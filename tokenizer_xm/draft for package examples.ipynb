{
 "cells": [
  {
   "cell_type": "markdown",
   "metadata": {},
   "source": [
    "# Introduction \n",
    "\n",
    "This package is an aggregation of several packages I found useful for text pre-processing including gensim and ntlk. I put them together to create a more comprehensive and convenient pipeline. "
   ]
  },
  {
   "cell_type": "markdown",
   "metadata": {},
   "source": [
    "# Installation\n",
    "\n",
    "```\n",
    "pip install tokenizer_xm\n",
    "```"
   ]
  },
  {
   "cell_type": "markdown",
   "metadata": {},
   "source": [
    "# Usage"
   ]
  },
  {
   "cell_type": "markdown",
   "metadata": {},
   "source": [
    "## Processing a single text string"
   ]
  },
  {
   "cell_type": "code",
   "execution_count": null,
   "metadata": {},
   "outputs": [],
   "source": [
    "from tokenizer_xm import TextPreProcessor\n",
    "import string\n",
    "\n",
    "# An example text\n",
    "example_text = \"This is an amazing product! I've been using it for almost a year now and it's clearly better than any other products I've used.\""
   ]
  },
  {
   "cell_type": "code",
   "execution_count": null,
   "metadata": {},
   "outputs": [],
   "source": [
    "print(\"Original text:\")\n",
    "print(example_text)\n",
    "print(\"---\")\n",
    "\n",
    "print(\"Simple Preprocessed:\")\n",
    "print(\"---\")\n",
    "tk = TextPreProcessor(text=example_text, lemma_flag=False, stem_flag=False, stopwords=[])\n",
    "print(tk.process())\n",
    "print(\"---\")\n",
    "\n",
    "print(\"Pre-processing with regular contractions (e.g. I've -> I have):\")\n",
    "# In this package, I included a dictionary of regular contractions for your convenience\n",
    "tk = TextPreProcessor(text=example_text, lemma_flag=False, stem_flag=False, \\\n",
    "                      contractions=[], stopwords=[])\n",
    "print(tk.process())\n",
    "print(\"---\")\n",
    "\n",
    "print(\"Pre-processing with lemmatization:\")\n",
    "tk = TextPreProcessor(text=example_text, lemma_flag=True, stem_flag=False, \\\n",
    "                      stopwords=[])\n",
    "print(tk.process())\n",
    "print(\"---\")\n",
    "\n",
    "print(\"Pre-processing with lemmatization and stemming:\")\n",
    "# This package uses the SnowballStemmer from ntlk.stem. I will try to make it customizable later\n",
    "tk = TextPreProcessor(text=example_text, lemma_flag=True, stem_flag=True, \\\n",
    "                       stopwords=[])\n",
    "print(tk.process())\n",
    "print(\"---\")\n",
    "\n",
    "print(\"Adding stop words\")\n",
    "# This package uses the SnowballStemmer from ntlk.stem. I will try to make it customizable later\n",
    "tk = TextPreProcessor(text=example_text, lemma_flag=True, stem_flag=True, \\\n",
    "                        stopwords=[\"this\",'be',\"an\",'it'])\n",
    "print(tk.process())\n",
    "print(\"---\")"
   ]
  },
  {
   "cell_type": "markdown",
   "metadata": {},
   "source": [
    "## The order of stop words removal and lemmatization/stemming"
   ]
  },
  {
   "cell_type": "markdown",
   "metadata": {},
   "source": [
    "The current algorithm **performs lemmatization and stem before stop-words removal**. Thus,\n",
    "\n",
    "1. You need to be carefull when defining a list of stop words. For example, including the term \"product\" will also remove the term \"production\" if you set the stem_flag to True or the term \"products\" if you set lemma_flag to True.\n",
    "\n",
    "2. When the lemma_flag is set to True, terms like \"is\" and \"are\" will be lemmatized to \"be\". And if \"be\" is not in the list of stopwords, it will remain. It is recommended that you process the list of stop-words as well if you decide to perform lemmatization"
   ]
  },
  {
   "cell_type": "code",
   "execution_count": null,
   "metadata": {},
   "outputs": [],
   "source": [
    "\"\"\"\n",
    "Example\n",
    "\"\"\"\n",
    "\n",
    "text = \"products, production, is\"\n",
    "stop_words = ['product','is']\n",
    "tk = TextPreProcessor(text = text, lemma_flag= False, stem_flag = False, \\\n",
    "                       stopwords=stop_words)\n",
    "# Use the .txt_pre_pros_all method instead when the input is a corpus\n",
    "print(tk.process())"
   ]
  },
  {
   "cell_type": "code",
   "execution_count": null,
   "metadata": {},
   "outputs": [],
   "source": [
    "tk = TextPreProcessor(text = text, lemma_flag= True, stem_flag = False, \\\n",
    "                       stopwords=stop_words)\n",
    "# Use the .txt_pre_pros_all method instead when the input is a corpus\n",
    "print(tk.process())"
   ]
  },
  {
   "cell_type": "code",
   "execution_count": null,
   "metadata": {},
   "outputs": [],
   "source": [
    "tk = TextPreProcessor(text = text, lemma_flag= True, stem_flag = True, \\\n",
    "                       stopwords=stop_words)\n",
    "# Use the .txt_pre_pros_all method instead when the input is a corpus\n",
    "print(tk.process())"
   ]
  }
 ],
 "metadata": {
  "kernelspec": {
   "display_name": "Python 3",
   "language": "python",
   "name": "python3"
  },
  "language_info": {
   "codemirror_mode": {
    "name": "ipython",
    "version": 3
   },
   "file_extension": ".py",
   "mimetype": "text/x-python",
   "name": "python",
   "nbconvert_exporter": "python",
   "pygments_lexer": "ipython3",
   "version": "3.7.3"
  }
 },
 "nbformat": 4,
 "nbformat_minor": 2
}
