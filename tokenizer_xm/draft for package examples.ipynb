{
 "cells": [
  {
   "cell_type": "markdown",
   "metadata": {},
   "source": [
    "# Introduction \n",
    "\n",
    "This package is an aggregation of several packages I found useful for text pre-processing including gensim and ntlk. I put them together to create a more comprehensive and convenient pipeline. "
   ]
  },
  {
   "cell_type": "markdown",
   "metadata": {},
   "source": [
    "# Installation\n",
    "\n",
    "```\n",
    "pip install tokenizer_xm\n",
    "```"
   ]
  },
  {
   "cell_type": "markdown",
   "metadata": {},
   "source": [
    "# Usage"
   ]
  },
  {
   "cell_type": "markdown",
   "metadata": {},
   "source": [
    "## Processing a single text string"
   ]
  },
  {
   "cell_type": "code",
   "execution_count": 2,
   "metadata": {},
   "outputs": [
    {
     "name": "stderr",
     "output_type": "stream",
     "text": [
      "/Users/xiaoma/anaconda3/lib/python3.7/site-packages/sklearn/feature_extraction/image.py:167: DeprecationWarning: `np.int` is a deprecated alias for the builtin `int`. To silence this warning, use `int` by itself. Doing this will not modify any behavior and is safe. When replacing `np.int`, you may wish to use e.g. `np.int64` or `np.int32` to specify the precision. If you wish to review your current use, check the release note link for additional information.\n",
      "Deprecated in NumPy 1.20; for more details and guidance: https://numpy.org/devdocs/release/1.20.0-notes.html#deprecations\n",
      "  dtype=np.int):\n",
      "/Users/xiaoma/anaconda3/lib/python3.7/site-packages/sklearn/linear_model/least_angle.py:30: DeprecationWarning: `np.float` is a deprecated alias for the builtin `float`. To silence this warning, use `float` by itself. Doing this will not modify any behavior and is safe. If you specifically wanted the numpy scalar type, use `np.float64` here.\n",
      "Deprecated in NumPy 1.20; for more details and guidance: https://numpy.org/devdocs/release/1.20.0-notes.html#deprecations\n",
      "  method='lar', copy_X=True, eps=np.finfo(np.float).eps,\n",
      "/Users/xiaoma/anaconda3/lib/python3.7/site-packages/sklearn/linear_model/least_angle.py:167: DeprecationWarning: `np.float` is a deprecated alias for the builtin `float`. To silence this warning, use `float` by itself. Doing this will not modify any behavior and is safe. If you specifically wanted the numpy scalar type, use `np.float64` here.\n",
      "Deprecated in NumPy 1.20; for more details and guidance: https://numpy.org/devdocs/release/1.20.0-notes.html#deprecations\n",
      "  method='lar', copy_X=True, eps=np.finfo(np.float).eps,\n",
      "/Users/xiaoma/anaconda3/lib/python3.7/site-packages/sklearn/linear_model/least_angle.py:284: DeprecationWarning: `np.float` is a deprecated alias for the builtin `float`. To silence this warning, use `float` by itself. Doing this will not modify any behavior and is safe. If you specifically wanted the numpy scalar type, use `np.float64` here.\n",
      "Deprecated in NumPy 1.20; for more details and guidance: https://numpy.org/devdocs/release/1.20.0-notes.html#deprecations\n",
      "  eps=np.finfo(np.float).eps, copy_Gram=True, verbose=0,\n",
      "/Users/xiaoma/anaconda3/lib/python3.7/site-packages/sklearn/linear_model/least_angle.py:862: DeprecationWarning: `np.float` is a deprecated alias for the builtin `float`. To silence this warning, use `float` by itself. Doing this will not modify any behavior and is safe. If you specifically wanted the numpy scalar type, use `np.float64` here.\n",
      "Deprecated in NumPy 1.20; for more details and guidance: https://numpy.org/devdocs/release/1.20.0-notes.html#deprecations\n",
      "  eps=np.finfo(np.float).eps, copy_X=True, fit_path=True,\n",
      "/Users/xiaoma/anaconda3/lib/python3.7/site-packages/sklearn/linear_model/least_angle.py:1101: DeprecationWarning: `np.float` is a deprecated alias for the builtin `float`. To silence this warning, use `float` by itself. Doing this will not modify any behavior and is safe. If you specifically wanted the numpy scalar type, use `np.float64` here.\n",
      "Deprecated in NumPy 1.20; for more details and guidance: https://numpy.org/devdocs/release/1.20.0-notes.html#deprecations\n",
      "  eps=np.finfo(np.float).eps, copy_X=True, fit_path=True,\n",
      "/Users/xiaoma/anaconda3/lib/python3.7/site-packages/sklearn/linear_model/least_angle.py:1127: DeprecationWarning: `np.float` is a deprecated alias for the builtin `float`. To silence this warning, use `float` by itself. Doing this will not modify any behavior and is safe. If you specifically wanted the numpy scalar type, use `np.float64` here.\n",
      "Deprecated in NumPy 1.20; for more details and guidance: https://numpy.org/devdocs/release/1.20.0-notes.html#deprecations\n",
      "  eps=np.finfo(np.float).eps, positive=False):\n",
      "/Users/xiaoma/anaconda3/lib/python3.7/site-packages/sklearn/linear_model/least_angle.py:1362: DeprecationWarning: `np.float` is a deprecated alias for the builtin `float`. To silence this warning, use `float` by itself. Doing this will not modify any behavior and is safe. If you specifically wanted the numpy scalar type, use `np.float64` here.\n",
      "Deprecated in NumPy 1.20; for more details and guidance: https://numpy.org/devdocs/release/1.20.0-notes.html#deprecations\n",
      "  max_n_alphas=1000, n_jobs=None, eps=np.finfo(np.float).eps,\n",
      "/Users/xiaoma/anaconda3/lib/python3.7/site-packages/sklearn/linear_model/least_angle.py:1602: DeprecationWarning: `np.float` is a deprecated alias for the builtin `float`. To silence this warning, use `float` by itself. Doing this will not modify any behavior and is safe. If you specifically wanted the numpy scalar type, use `np.float64` here.\n",
      "Deprecated in NumPy 1.20; for more details and guidance: https://numpy.org/devdocs/release/1.20.0-notes.html#deprecations\n",
      "  max_n_alphas=1000, n_jobs=None, eps=np.finfo(np.float).eps,\n",
      "/Users/xiaoma/anaconda3/lib/python3.7/site-packages/sklearn/linear_model/least_angle.py:1738: DeprecationWarning: `np.float` is a deprecated alias for the builtin `float`. To silence this warning, use `float` by itself. Doing this will not modify any behavior and is safe. If you specifically wanted the numpy scalar type, use `np.float64` here.\n",
      "Deprecated in NumPy 1.20; for more details and guidance: https://numpy.org/devdocs/release/1.20.0-notes.html#deprecations\n",
      "  eps=np.finfo(np.float).eps, copy_X=True, positive=False):\n"
     ]
    }
   ],
   "source": [
    "from tokenizer_xm import TextPreProcessor\n",
    "import string\n",
    "\n",
    "# An example text\n",
    "example_text = \"This is an amazing product! I've been using it for almost a year now and it's clearly better than any other products I've used.\""
   ]
  },
  {
   "cell_type": "code",
   "execution_count": 3,
   "metadata": {},
   "outputs": [
    {
     "name": "stdout",
     "output_type": "stream",
     "text": [
      "Original text:\n",
      "This is an amazing product! I've been using it for almost a year now and it's clearly better than any other products I've used.\n",
      "---\n",
      "Simple Preprocessed:\n",
      "---\n",
      "['this', 'is', 'an', 'amazing', 'product', 'i', 'have', 'been', 'using', 'it', 'for', 'almost', 'a', 'year', 'now', 'and', 'it', 'has', 'it', 'is', 'clearly', 'better', 'than', 'any', 'other', 'products', 'i', 'have', 'used']\n",
      "---\n",
      "Pre-processing with regular contractions (e.g. I've -> I have):\n",
      "['this', 'is', 'an', 'amazing', 'product', 'i', 'have', 'been', 'using', 'it', 'for', 'almost', 'a', 'year', 'now', 'and', 'it', 'has', 'it', 'is', 'clearly', 'better', 'than', 'any', 'other', 'products', 'i', 'have', 'used']\n",
      "---\n",
      "Pre-processing with lemmatization:\n",
      "['this', 'be', 'an', 'amaze', 'product', 'i', 'have', 'be', 'use', 'it', 'for', 'almost', 'a', 'year', 'now', 'and', 'it', 'have', 'it', 'be', 'clearly', 'better', 'than', 'any', 'other', 'product', 'i', 'have', 'use']\n",
      "---\n",
      "Pre-processing with lemmatization and stemming:\n",
      "['this', 'be', 'an', 'amaz', 'product', 'i', 'have', 'be', 'use', 'it', 'for', 'almost', 'a', 'year', 'now', 'and', 'it', 'have', 'it', 'be', 'clear', 'better', 'than', 'ani', 'other', 'product', 'i', 'have', 'use']\n",
      "---\n",
      "Adding stop words\n",
      "['amaz', 'product', 'i', 'have', 'use', 'for', 'almost', 'a', 'year', 'now', 'and', 'have', 'clear', 'better', 'than', 'ani', 'other', 'product', 'i', 'have', 'use']\n",
      "---\n"
     ]
    }
   ],
   "source": [
    "print(\"Original text:\")\n",
    "print(example_text)\n",
    "print(\"---\")\n",
    "\n",
    "print(\"Simple Preprocessed:\")\n",
    "print(\"---\")\n",
    "tk = TextPreProcessor(text = example_text, lemma_flag= False, stem_flag = False, stopwords = [])\n",
    "print(tk.txt_pre_pros())\n",
    "print(\"---\")\n",
    "\n",
    "print(\"Pre-processing with regular contractions (e.g. I've -> I have):\")\n",
    "# In this package, I included a dictionary of regular contractions for your convenience\n",
    "tk = TextPreProcessor(text = example_text, lemma_flag= False, stem_flag = False, \\\n",
    "                      stopwords=[])\n",
    "print(tk.txt_pre_pros())\n",
    "print(\"---\")\n",
    "\n",
    "print(\"Pre-processing with lemmatization:\")\n",
    "tk = TextPreProcessor(text = example_text, lemma_flag= True, stem_flag = False, \\\n",
    "                      stopwords=[])\n",
    "print(tk.txt_pre_pros())\n",
    "print(\"---\")\n",
    "\n",
    "print(\"Pre-processing with lemmatization and stemming:\")\n",
    "# This package uses the SnowballStemmer from ntlk.stem. I will try to make it customizable later\n",
    "tk = TextPreProcessor(text = example_text, lemma_flag= True, stem_flag = True, \\\n",
    "                       stopwords=[])\n",
    "print(tk.txt_pre_pros())\n",
    "print(\"---\")\n",
    "\n",
    "print(\"Adding stop words\")\n",
    "# This package uses the SnowballStemmer from ntlk.stem. I will try to make it customizable later\n",
    "tk = TextPreProcessor(text = example_text, lemma_flag= True, stem_flag = True, \\\n",
    "                        stopwords=[\"this\",'be',\"an\",'it'])\n",
    "print(tk.txt_pre_pros())\n",
    "print(\"---\")"
   ]
  },
  {
   "cell_type": "markdown",
   "metadata": {},
   "source": [
    "## Processing a list of text"
   ]
  },
  {
   "cell_type": "code",
   "execution_count": 4,
   "metadata": {},
   "outputs": [
    {
     "ename": "NameError",
     "evalue": "name 'text_tokenizer_xm' is not defined",
     "output_type": "error",
     "traceback": [
      "\u001b[0;31m---------------------------------------------------------------------------\u001b[0m",
      "\u001b[0;31mNameError\u001b[0m                                 Traceback (most recent call last)",
      "\u001b[0;32m<ipython-input-4-401c2b1464e5>\u001b[0m in \u001b[0;36m<module>\u001b[0;34m\u001b[0m\n\u001b[1;32m      1\u001b[0m \u001b[0mtext_list\u001b[0m \u001b[0;34m=\u001b[0m \u001b[0;34m[\u001b[0m\u001b[0;34m'I am ready'\u001b[0m\u001b[0;34m,\u001b[0m\u001b[0;34m\"This is great\"\u001b[0m\u001b[0;34m,\u001b[0m\u001b[0;34m\"I love it\"\u001b[0m\u001b[0;34m]\u001b[0m\u001b[0;34m\u001b[0m\u001b[0;34m\u001b[0m\u001b[0m\n\u001b[0;32m----> 2\u001b[0;31m tk = text_tokenizer_xm(text = text_list, lemma_flag= True, stem_flag = True, \\\n\u001b[0m\u001b[1;32m      3\u001b[0m                        contractions = contractions, stopwords=[])\n\u001b[1;32m      4\u001b[0m \u001b[0;31m# Use the .txt_pre_pros_all method instead when the input is a corpus\u001b[0m\u001b[0;34m\u001b[0m\u001b[0;34m\u001b[0m\u001b[0;34m\u001b[0m\u001b[0m\n\u001b[1;32m      5\u001b[0m \u001b[0mprint\u001b[0m\u001b[0;34m(\u001b[0m\u001b[0mtk\u001b[0m\u001b[0;34m.\u001b[0m\u001b[0mtxt_pre_pros_all\u001b[0m\u001b[0;34m(\u001b[0m\u001b[0;34m)\u001b[0m\u001b[0;34m)\u001b[0m\u001b[0;34m\u001b[0m\u001b[0;34m\u001b[0m\u001b[0m\n",
      "\u001b[0;31mNameError\u001b[0m: name 'text_tokenizer_xm' is not defined"
     ]
    }
   ],
   "source": [
    "text_list = ['I am ready',\"This is great\",\"I love it\"]\n",
    "tk = text_tokenizer_xm(text = text_list, lemma_flag= True, stem_flag = True, \\\n",
    "                       contractions = contractions, stopwords=[])\n",
    "# Use the .txt_pre_pros_all method instead when the input is a corpus\n",
    "print(tk.txt_pre_pros_all())\n",
    "print(\"---\")"
   ]
  },
  {
   "cell_type": "markdown",
   "metadata": {},
   "source": [
    "## The order of stop words removal and lemmatization/stemming"
   ]
  },
  {
   "cell_type": "markdown",
   "metadata": {},
   "source": [
    "The current algorithm **performs lemmatization and stem before stop-words removal**. Thus,\n",
    "\n",
    "1. You need to be carefull when defining a list of stop words. For example, including the term \"product\" will also remove the term \"production\" if you set the stem_flag to True or the term \"products\" if you set lemma_flag to True.\n",
    "\n",
    "2. When the lemma_flag is set to True, terms like \"is\" and \"are\" will be lemmatized to \"be\". And if \"be\" is not in the list of stopwords, it will remain. It is recommended that you process the list of stop-words as well if you decide to perform lemmatization"
   ]
  },
  {
   "cell_type": "code",
   "execution_count": null,
   "metadata": {},
   "outputs": [],
   "source": [
    "\"\"\"\n",
    "Example\n",
    "\"\"\"\n",
    "\n",
    "text = \"products, production, is\"\n",
    "stop_words = ['product','is']\n",
    "tk = text_tokenizer_xm(text = text, lemma_flag= False, stem_flag = False, \\\n",
    "                       contractions = contractions, stopwords=stop_words)\n",
    "# Use the .txt_pre_pros_all method instead when the input is a corpus\n",
    "print(tk.txt_pre_pros())"
   ]
  },
  {
   "cell_type": "code",
   "execution_count": null,
   "metadata": {},
   "outputs": [],
   "source": [
    "tk = text_tokenizer_xm(text = text, lemma_flag= True, stem_flag = False, \\\n",
    "                       contractions = contractions, stopwords=stop_words)\n",
    "# Use the .txt_pre_pros_all method instead when the input is a corpus\n",
    "print(tk.txt_pre_pros())"
   ]
  },
  {
   "cell_type": "code",
   "execution_count": null,
   "metadata": {},
   "outputs": [],
   "source": [
    "tk = text_tokenizer_xm(text = text, lemma_flag= True, stem_flag = True, \\\n",
    "                       contractions = contractions, stopwords=stop_words)\n",
    "# Use the .txt_pre_pros_all method instead when the input is a corpus\n",
    "print(tk.txt_pre_pros())"
   ]
  }
 ],
 "metadata": {
  "kernelspec": {
   "display_name": "Python 3",
   "language": "python",
   "name": "python3"
  },
  "language_info": {
   "codemirror_mode": {
    "name": "ipython",
    "version": 3
   },
   "file_extension": ".py",
   "mimetype": "text/x-python",
   "name": "python",
   "nbconvert_exporter": "python",
   "pygments_lexer": "ipython3",
   "version": "3.7.3"
  }
 },
 "nbformat": 4,
 "nbformat_minor": 2
}
