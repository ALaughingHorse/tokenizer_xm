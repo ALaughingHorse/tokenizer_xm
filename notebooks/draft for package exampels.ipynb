{
 "cells": [
  {
   "cell_type": "markdown",
   "metadata": {},
   "source": [
    "# Introduction \n",
    "\n",
    "This package is an aggregation of several packages I found useful for text pre-processing including gensim and ntlk. I put them together to create a more comprehensive and convenient pipeline. "
   ]
  },
  {
   "cell_type": "markdown",
   "metadata": {},
   "source": [
    "# Installation\n",
    "\n",
    "```\n",
    "pip install tokenizer_xm\n",
    "```"
   ]
  },
  {
   "cell_type": "markdown",
   "metadata": {},
   "source": [
    "# Usage"
   ]
  },
  {
   "cell_type": "markdown",
   "metadata": {},
   "source": [
    "## Processing a single text string"
   ]
  },
  {
   "cell_type": "code",
   "execution_count": 15,
   "metadata": {},
   "outputs": [],
   "source": [
    "from tokenizer_xm import text_tokenizer_xm, contractions\n",
    "\n",
    "# An example text\n",
    "example_text = \"This is an amazing product! I've been using it for almost a year now and it's clearly better\\\n",
    " than any other products I've used.\""
   ]
  },
  {
   "cell_type": "code",
   "execution_count": 28,
   "metadata": {},
   "outputs": [
    {
     "name": "stdout",
     "output_type": "stream",
     "text": [
      "Original text:\n",
      "This is an amazing product! I've been using it for almost a year now and it's clearly better than any other products I've used.\n",
      "---\n",
      "Simple Preprocessed:\n",
      "---\n",
      "['this', 'is', 'an', 'amazing', 'product', 've', 'been', 'using', 'it', 'for', 'almost', 'year', 'now', 'and', 'it', 'clearly', 'better', 'than', 'any', 'other', 'products', 've', 'used']\n",
      "---\n",
      "Pre-processing with regular contractions (e.g. I've -> I have):\n",
      "['this', 'is', 'an', 'amazing', 'product', 'have', 'been', 'using', 'it', 'for', 'almost', 'year', 'now', 'and', 'it', 'has', 'it', 'is', 'clearly', 'better', 'than', 'any', 'other', 'products', 'have', 'used']\n",
      "---\n",
      "Pre-processing with lemmatization:\n",
      "['this', 'be', 'an', 'amaze', 'product', 'have', 'be', 'use', 'it', 'for', 'almost', 'year', 'now', 'and', 'it', 'have', 'it', 'be', 'clearly', 'better', 'than', 'any', 'other', 'product', 'have', 'use']\n",
      "---\n",
      "Pre-processing with lemmatization and stemming:\n",
      "['this', 'be', 'an', 'amaz', 'product', 'have', 'be', 'use', 'it', 'for', 'almost', 'year', 'now', 'and', 'it', 'have', 'it', 'be', 'clear', 'better', 'than', 'ani', 'other', 'product', 'have', 'use']\n",
      "---\n",
      "Adding stop words\n",
      "['amaz', 'product', 'have', 'use', 'for', 'almost', 'year', 'now', 'and', 'have', 'clear', 'better', 'than', 'ani', 'other', 'product', 'have', 'use']\n",
      "---\n"
     ]
    }
   ],
   "source": [
    "print(\"Original text:\")\n",
    "print(example_text)\n",
    "print(\"---\")\n",
    "\n",
    "print(\"Simple Preprocessed:\")\n",
    "print(\"---\")\n",
    "tk = text_tokenizer_xm(text = example_text, lemma_flag= False, stem_flag = False, stopwords = [])\n",
    "print(tk.txt_pre_pros())\n",
    "print(\"---\")\n",
    "\n",
    "print(\"Pre-processing with regular contractions (e.g. I've -> I have):\")\n",
    "# In this package, I included a dictionary of regular contractions for your convenience\n",
    "tk = text_tokenizer_xm(text = example_text, lemma_flag= False, stem_flag = False, \\\n",
    "                       contractions = contractions, stopwords=[])\n",
    "print(tk.txt_pre_pros())\n",
    "print(\"---\")\n",
    "\n",
    "print(\"Pre-processing with lemmatization:\")\n",
    "tk = text_tokenizer_xm(text = example_text, lemma_flag= True, stem_flag = False, \\\n",
    "                       contractions = contractions, stopwords=[])\n",
    "print(tk.txt_pre_pros())\n",
    "print(\"---\")\n",
    "\n",
    "print(\"Pre-processing with lemmatization and stemming:\")\n",
    "# This package uses the SnowballStemmer from ntlk.stem. I will try to make it customizable later\n",
    "tk = text_tokenizer_xm(text = example_text, lemma_flag= True, stem_flag = True, \\\n",
    "                       contractions = contractions, stopwords=[])\n",
    "print(tk.txt_pre_pros())\n",
    "print(\"---\")\n",
    "\n",
    "print(\"Adding stop words\")\n",
    "# This package uses the SnowballStemmer from ntlk.stem. I will try to make it customizable later\n",
    "tk = text_tokenizer_xm(text = example_text, lemma_flag= True, stem_flag = True, \\\n",
    "                       contractions = contractions, stopwords=[\"this\",'be',\"an\",'it'])\n",
    "print(tk.txt_pre_pros())\n",
    "print(\"---\")"
   ]
  },
  {
   "cell_type": "markdown",
   "metadata": {},
   "source": [
    "## Processing a list of text"
   ]
  },
  {
   "cell_type": "code",
   "execution_count": 30,
   "metadata": {},
   "outputs": [
    {
     "name": "stdout",
     "output_type": "stream",
     "text": [
      "0          [be, readi]\n",
      "1    [this, be, great]\n",
      "2           [love, it]\n",
      "dtype: object\n",
      "---\n"
     ]
    }
   ],
   "source": [
    "text_list = ['I am ready',\"This is great\",\"I love it\"]\n",
    "tk = text_tokenizer_xm(text = text_list, lemma_flag= True, stem_flag = True, \\\n",
    "                       contractions = contractions, stopwords=[])\n",
    "# Use the .txt_pre_pros_all method instead when the input is a corpus\n",
    "print(tk.txt_pre_pros_all())\n",
    "print(\"---\")"
   ]
  },
  {
   "cell_type": "markdown",
   "metadata": {},
   "source": [
    "## The order of stop words removal and lemmatization/stemming"
   ]
  },
  {
   "cell_type": "markdown",
   "metadata": {},
   "source": [
    "The current algorithm **performs lemmatization and stem before stop-words removal**. Thus,\n",
    "\n",
    "1. You need to be carefull when defining a list of stop words. For example, including the term \"product\" will also remove the term \"production\" if you set the stem_flag to True or the term \"products\" if you set lemma_flag to True.\n",
    "\n",
    "2. When the lemma_flag is set to True, terms like \"is\" and \"are\" will be lemmatized to \"be\". And if \"be\" is not in the list of stopwords, it will remain. It is recommended that you process the list of stop-words as well if you decide to perform lemmatization"
   ]
  },
  {
   "cell_type": "code",
   "execution_count": 44,
   "metadata": {},
   "outputs": [
    {
     "name": "stdout",
     "output_type": "stream",
     "text": [
      "['products', 'production']\n"
     ]
    }
   ],
   "source": [
    "\"\"\"\n",
    "Example\n",
    "\"\"\"\n",
    "\n",
    "text = \"products, production, is\"\n",
    "stop_words = ['product','is']\n",
    "tk = text_tokenizer_xm(text = text, lemma_flag= False, stem_flag = False, \\\n",
    "                       contractions = contractions, stopwords=stop_words)\n",
    "# Use the .txt_pre_pros_all method instead when the input is a corpus\n",
    "print(tk.txt_pre_pros())"
   ]
  },
  {
   "cell_type": "code",
   "execution_count": 45,
   "metadata": {},
   "outputs": [
    {
     "name": "stdout",
     "output_type": "stream",
     "text": [
      "['production', 'be']\n"
     ]
    }
   ],
   "source": [
    "tk = text_tokenizer_xm(text = text, lemma_flag= True, stem_flag = False, \\\n",
    "                       contractions = contractions, stopwords=stop_words)\n",
    "# Use the .txt_pre_pros_all method instead when the input is a corpus\n",
    "print(tk.txt_pre_pros())"
   ]
  },
  {
   "cell_type": "code",
   "execution_count": 46,
   "metadata": {},
   "outputs": [
    {
     "name": "stdout",
     "output_type": "stream",
     "text": [
      "['be']\n"
     ]
    }
   ],
   "source": [
    "tk = text_tokenizer_xm(text = text, lemma_flag= True, stem_flag = True, \\\n",
    "                       contractions = contractions, stopwords=stop_words)\n",
    "# Use the .txt_pre_pros_all method instead when the input is a corpus\n",
    "print(tk.txt_pre_pros())"
   ]
  }
 ],
 "metadata": {
  "kernelspec": {
   "display_name": "Python 3",
   "language": "python",
   "name": "python3"
  },
  "language_info": {
   "codemirror_mode": {
    "name": "ipython",
    "version": 3
   },
   "file_extension": ".py",
   "mimetype": "text/x-python",
   "name": "python",
   "nbconvert_exporter": "python",
   "pygments_lexer": "ipython3",
   "version": "3.7.3"
  }
 },
 "nbformat": 4,
 "nbformat_minor": 2
}
